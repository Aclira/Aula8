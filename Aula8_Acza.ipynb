{
 "cells": [
  {
   "cell_type": "code",
   "execution_count": 2,
   "metadata": {},
   "outputs": [],
   "source": [
    "from IPython.display import Image\n",
    "from IPython.display import HTML\n",
    "import matplotlib.pyplot as plt\n",
    "import numpy as np\n",
    "import numpy.random as npr\n",
    "import math"
   ]
  },
  {
   "cell_type": "markdown",
   "metadata": {
    "collapsed": true
   },
   "source": [
    "# Resolução de um sistemas triangular superior."
   ]
  },
  {
   "cell_type": "code",
   "execution_count": 5,
   "metadata": {},
   "outputs": [
    {
     "name": "stdout",
     "output_type": "stream",
     "text": [
      "Matrix exemplo\n",
      "[[ 1  2  3  4]\n",
      " [ 0  5  6  7]\n",
      " [ 0  0  8  9]\n",
      " [ 0  0  0 10]]\n"
     ]
    },
    {
     "data": {
      "text/plain": [
       "[2.995, 0.18999999999999995, 0.275, 0.2]"
      ]
     },
     "execution_count": 5,
     "metadata": {},
     "output_type": "execute_result"
    }
   ],
   "source": [
    "M = np.array([[1,2,3,4], [0,5,6,7], [0,0,8,9],[0,0,0,10]])\n",
    "b = np.array([5,4,4,2])\n",
    "\n",
    "print(\"Matriz exemplo\")\n",
    "print(M)\n",
    "\n",
    "def teste(a,b):\n",
    "    n = len(a)\n",
    "    x = n*[0]\n",
    "    x[n-1] = b[n-1]/a[n-1][n-1]\n",
    "    for k in range(n-1,-1,-1):\n",
    "        s = 0\n",
    "        for j in range(k+1,n):\n",
    "            s = s + a[k][j]*x[j]\n",
    "        x[k] = (b[k]-s)/a[k][k]                 \n",
    "    return x\n",
    "\n",
    "\n",
    "\n",
    "teste(M,b)"
   ]
  },
  {
   "cell_type": "code",
   "execution_count": 549,
   "metadata": {},
   "outputs": [
    {
     "name": "stdout",
     "output_type": "stream",
     "text": [
      "[2.995 0.19  0.275 0.2  ]\n"
     ]
    }
   ],
   "source": [
    "x = np.linalg.solve(M,b)\n",
    "print(x)"
   ]
  },
  {
   "cell_type": "markdown",
   "metadata": {},
   "source": [
    "# Eliminação de Gauss"
   ]
  },
  {
   "cell_type": "code",
   "execution_count": 28,
   "metadata": {},
   "outputs": [
    {
     "name": "stdout",
     "output_type": "stream",
     "text": [
      "matriz exemplo\n",
      "[[ 1 -1  2]\n",
      " [ 2  1 -1]\n",
      " [-2 -5  3]]\n",
      "[[ 2]\n",
      " [-7]\n",
      " [-5]]\n"
     ]
    }
   ],
   "source": [
    "M = np.array([[1,-1,2],[2,1,-1],[-2,-5,3]])\n",
    "b = np.array([[2],[1],[3]])\n",
    "\n",
    "print(\"matriz exemplo\")\n",
    "print(M)\n",
    "\n",
    "def eliminacao(a,b):\n",
    "    n = len(a)\n",
    "    m = n*[0]\n",
    "    \n",
    "    for k in range(0,n-1):\n",
    "        for i in range(k+1,n):\n",
    "            m=a[i][k]/a[k][k]\n",
    "            a[i][k] = 0\n",
    "            for j in range(k+1,n):\n",
    "                a[i][j] = a[i][j] - m*a[k][j]\n",
    "                b[i] = b[i] - m*b[k]\n",
    "    return a\n",
    "                \n",
    "\n",
    "\n",
    "eliminacao(M,b)\n",
    "print(b)"
   ]
  }
 ],
 "metadata": {
  "anaconda-cloud": {},
  "kernelspec": {
   "display_name": "Python 3",
   "language": "python",
   "name": "python3"
  },
  "language_info": {
   "codemirror_mode": {
    "name": "ipython",
    "version": 3
   },
   "file_extension": ".py",
   "mimetype": "text/x-python",
   "name": "python",
   "nbconvert_exporter": "python",
   "pygments_lexer": "ipython3",
   "version": "3.6.5"
  }
 },
 "nbformat": 4,
 "nbformat_minor": 1
}
